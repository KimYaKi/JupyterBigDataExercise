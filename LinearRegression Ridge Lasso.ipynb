{
 "cells": [
  {
   "cell_type": "code",
   "execution_count": 1,
   "metadata": {},
   "outputs": [
    {
     "name": "stderr",
     "output_type": "stream",
     "text": [
      "C:\\Users\\rlawl\\Anaconda3\\lib\\site-packages\\sklearn\\utils\\deprecation.py:77: DeprecationWarning: Function make_blobs is deprecated; Please import make_blobs directly from scikit-learn\n",
      "  warnings.warn(msg, category=DeprecationWarning)\n"
     ]
    }
   ],
   "source": [
    "from sklearn.model_selection import train_test_split\n",
    "from sklearn.datasets import make_blobs\n",
    "import mglearn\n",
    "\n",
    "# x값에 따른 y값 형태의 dataset을 생성\n",
    "# 사용되는 데이터셋은 forge() 형태\n",
    "x, y = mglearn.datasets.make_forge()\n",
    "\n",
    "# 전체 데이터셋을 train데이터와 test데이터로 생성\n",
    "x_train, x_test, y_train, y_test = train_test_split(x, y, random_state=0)"
   ]
  },
  {
   "cell_type": "code",
   "execution_count": 2,
   "metadata": {
    "collapsed": true
   },
   "outputs": [],
   "source": [
    "# KNN Classifier 러닝 모델 사용 선언\n",
    "from sklearn.neighbors import KNeighborsClassifier\n",
    "\n",
    "# NKK에서 사용되는 이웃의 수는 3개\n",
    "clf = KNeighborsClassifier(n_neighbors=3)"
   ]
  },
  {
   "cell_type": "code",
   "execution_count": 3,
   "metadata": {},
   "outputs": [
    {
     "data": {
      "text/plain": [
       "KNeighborsClassifier(algorithm='auto', leaf_size=30, metric='minkowski',\n",
       "           metric_params=None, n_jobs=1, n_neighbors=3, p=2,\n",
       "           weights='uniform')"
      ]
     },
     "execution_count": 3,
     "metadata": {},
     "output_type": "execute_result"
    }
   ],
   "source": [
    "# 데이터 형식 출력\n",
    "clf.fit(x_train, y_train)"
   ]
  },
  {
   "cell_type": "code",
   "execution_count": 4,
   "metadata": {},
   "outputs": [
    {
     "name": "stdout",
     "output_type": "stream",
     "text": [
      "테스트 세트 예측 : [1 0 1 0 1 0 0]\n",
      "테스트 세트 정확도 : 0.86\n"
     ]
    }
   ],
   "source": [
    "print(\"테스트 세트 예측 : {}\".format(clf.predict(x_test)))\n",
    "print(\"테스트 세트 정확도 : {:.2f}\".format(clf.score(x_test, y_test)))"
   ]
  },
  {
   "cell_type": "code",
   "execution_count": 5,
   "metadata": {},
   "outputs": [
    {
     "data": {
      "text/plain": [
       "KNeighborsRegressor(algorithm='auto', leaf_size=30, metric='minkowski',\n",
       "          metric_params=None, n_jobs=1, n_neighbors=3, p=2,\n",
       "          weights='uniform')"
      ]
     },
     "execution_count": 5,
     "metadata": {},
     "output_type": "execute_result"
    }
   ],
   "source": [
    "# wave 데이터 형태에서 KNN알고리즘은\n",
    "# KNeighborsRegressor 를 사용하여 회귀 분석\n",
    "from sklearn.neighbors import KNeighborsRegressor\n",
    "\n",
    "# 데이터셋에서 사용되는 셈플의 수는 40개\n",
    "x, y = mglearn.datasets.make_wave(n_samples=40)\n",
    "\n",
    "# test데이터와 train데이터 분류\n",
    "# 데이터의 변화는 X\n",
    "x_train, x_test, y_train, y_test = train_test_split(x,y, random_state=0)\n",
    "\n",
    "# Regressor 회귀 모델 선언\n",
    "# KNN에서 이웃 K의 수는 3으로 고정\n",
    "reg = KNeighborsRegressor(n_neighbors=3)\n",
    "\n",
    "# 데이터 모델 피팅\n",
    "reg.fit(x_train, y_train)"
   ]
  },
  {
   "cell_type": "code",
   "execution_count": 6,
   "metadata": {},
   "outputs": [
    {
     "name": "stdout",
     "output_type": "stream",
     "text": [
      "테스트 세트 예측 : \n",
      "[-0.05396539  0.35686046  1.13671923 -1.89415682 -1.13881398 -1.63113382\n",
      "  0.35686046  0.91241374 -0.44680446 -1.13881398]\n"
     ]
    }
   ],
   "source": [
    "print(\"테스트 세트 예측 : \\n{}\".format(reg.predict(x_test)))"
   ]
  },
  {
   "cell_type": "code",
   "execution_count": 7,
   "metadata": {},
   "outputs": [
    {
     "name": "stdout",
     "output_type": "stream",
     "text": [
      "테스트 세트 R^2 : 0.83\n"
     ]
    }
   ],
   "source": [
    "# 음수 제거를 위해 결과 값에 제곱을 수행\n",
    "print(\"테스트 세트 R^2 : {:.2f}\".format(reg.score(x_test, y_test)))"
   ]
  },
  {
   "cell_type": "code",
   "execution_count": 8,
   "metadata": {
    "collapsed": true
   },
   "outputs": [],
   "source": [
    "# 최소제곱법\n",
    "# wave데이터 셋을 선형 회귀 분석을 수행하기 위해 LinearRegression모델 선언\n",
    "from sklearn.linear_model import LinearRegression\n",
    "\n",
    "# 셈플 데이터셋 60개 사용\n",
    "x, y = mglearn.datasets.make_wave(n_samples=60)\n",
    "# 데이터셋의 변화는 렌덤으로 변경\n",
    "x_train, x_test, y_train, y_test = train_test_split(x, y, random_state=42)\n",
    "\n",
    "# train데이터를 LinearRegression으로 피팅\n",
    "lr = LinearRegression().fit(x_train, y_train)"
   ]
  },
  {
   "cell_type": "code",
   "execution_count": 9,
   "metadata": {},
   "outputs": [
    {
     "name": "stdout",
     "output_type": "stream",
     "text": [
      "lr.coef : [0.39390555]\n",
      "lr.intercept_ : -0.031804343026759746\n"
     ]
    }
   ],
   "source": [
    "print(\"lr.coef : {}\".format(lr.coef_))\n",
    "print(\"lr.intercept_ : {}\".format(lr.intercept_))"
   ]
  },
  {
   "cell_type": "code",
   "execution_count": 10,
   "metadata": {},
   "outputs": [
    {
     "name": "stdout",
     "output_type": "stream",
     "text": [
      "훈련 세트 점수 : 0.67\n",
      "테스트 세트 점수 : 0.66\n"
     ]
    }
   ],
   "source": [
    "print(\"훈련 세트 점수 : {:.2f}\".format(lr.score(x_train, y_train)))\n",
    "print(\"테스트 세트 점수 : {:.2f}\".format(lr.score(x_test, y_test)))"
   ]
  },
  {
   "cell_type": "code",
   "execution_count": 11,
   "metadata": {
    "collapsed": true
   },
   "outputs": [],
   "source": [
    "#보스턴 주택 데이터 셋을 이용한 최소 제곱법\n",
    "x, y = mglearn.datasets.load_extended_boston()\n",
    "\n",
    "# 주택의 가격은 연속적인 선형 회귀모델로 분석\n",
    "# 데이터 셋의 변경은 X\n",
    "x_train, x_test, y_train, y_test = train_test_split(x, y, random_state=0)\n",
    "# 데이터 셋을 모델에 피팅\n",
    "lr = LinearRegression().fit(x_train, y_train)"
   ]
  },
  {
   "cell_type": "code",
   "execution_count": 12,
   "metadata": {},
   "outputs": [
    {
     "name": "stdout",
     "output_type": "stream",
     "text": [
      "훈련 세트 점수 : 0.95\n",
      "테스트 세트 점수 : 0.61\n"
     ]
    }
   ],
   "source": [
    "print(\"훈련 세트 점수 : {:.2f}\".format(lr.score(x_train, y_train)))\n",
    "print(\"테스트 세트 점수 : {:.2f}\".format(lr.score(x_test, y_test)))"
   ]
  },
  {
   "cell_type": "code",
   "execution_count": 13,
   "metadata": {},
   "outputs": [
    {
     "name": "stdout",
     "output_type": "stream",
     "text": [
      "훈련 세트 점수 : 0.89\n",
      "테스트 세트 점수 : 0.75\n"
     ]
    }
   ],
   "source": [
    "# 가중치 최소화를 위한 Ridge모델 선언\n",
    "from sklearn.linear_model import Ridge\n",
    "\n",
    "# 보스턴 주택 데이터 셋에서 train데이터 셋을 Ridge모델에 피팅\n",
    "ridge = Ridge().fit(x_train, y_train)\n",
    "\n",
    "print(\"훈련 세트 점수 : {:.2f}\".format(ridge.score(x_train,y_train)))\n",
    "print(\"테스트 세트 점수 : {:.2f}\".format(ridge.score(x_test,y_test)))"
   ]
  },
  {
   "cell_type": "code",
   "execution_count": 14,
   "metadata": {},
   "outputs": [
    {
     "name": "stdout",
     "output_type": "stream",
     "text": [
      "훈련 세트 점수 : 0.79\n",
      "테스트 세트 점수 : 0.64\n"
     ]
    }
   ],
   "source": [
    "# Ridge의 alpha를 10\n",
    "# alpha : 모델의 복잡도\n",
    "ridge10 = Ridge(alpha=10).fit(x_train, y_train)\n",
    "\n",
    "print(\"훈련 세트 점수 : {:.2f}\".format(ridge10.score(x_train,y_train)))\n",
    "print(\"테스트 세트 점수 : {:.2f}\".format(ridge10.score(x_test,y_test)))"
   ]
  },
  {
   "cell_type": "code",
   "execution_count": 15,
   "metadata": {},
   "outputs": [
    {
     "name": "stdout",
     "output_type": "stream",
     "text": [
      "훈련 세트 점수 : 0.93\n",
      "테스트 세트 점수 : 0.77\n"
     ]
    }
   ],
   "source": [
    "# alpha 값을 0.1로 수정\n",
    "ridge01 = Ridge(alpha=0.1).fit(x_train, y_train)\n",
    "\n",
    "print(\"훈련 세트 점수 : {:.2f}\".format(ridge01.score(x_train,y_train)))\n",
    "print(\"테스트 세트 점수 : {:.2f}\".format(ridge01.score(x_test,y_test)))"
   ]
  },
  {
   "cell_type": "code",
   "execution_count": 16,
   "metadata": {},
   "outputs": [
    {
     "data": {
      "text/plain": [
       "<matplotlib.legend.Legend at 0x2ab5eebc6d8>"
      ]
     },
     "execution_count": 16,
     "metadata": {},
     "output_type": "execute_result"
    },
    {
     "data": {
      "image/png": "[encoded data removed]",
      "text/plain": [
       "<Figure size 864x504 with 1 Axes>"
      ]
     },
     "metadata": {},
     "output_type": "display_data"
    }
   ],
   "source": [
    "# 값을 그리기 위한 그래프 라이브러리 출력\n",
    "%matplotlib inline\n",
    "import matplotlib.pyplot as plt\n",
    "plt.figure(figsize=(12, 7))\n",
    "# 선형 회귀 분석을 위한 LinearRegression 모델 선언\n",
    "from sklearn.linear_model import LinearRegression\n",
    "\n",
    "lr = LinearRegression().fit(x_train, y_train)\n",
    "\n",
    "# alpha 값이 1, 10, 0.1일 경우를 각각 출력\n",
    "plt.plot(ridge10.coef_, '^', label=\"Reidge alpha = 10\")\n",
    "plt.plot(ridge.coef_, 's', label=\"Reidge alpha = 1\")\n",
    "plt.plot(ridge01.coef_, 'v', label=\"Reidge alpha = 0.1\")\n",
    "\n",
    "# 선형 회귀 모델의 그래프와 함께 출력\n",
    "plt.plot(lr.coef_, 'o', label=\"LinearRegression\")\n",
    "plt.xlabel(\"계수 목록\")\n",
    "plt.ylabel(\"계수 크기\")\n",
    "plt.hlines(0, 0, len(lr.coef_))\n",
    "plt.ylim(-25,25)\n",
    "plt.legend(loc='center left', bbox_to_anchor=(1, 0.5))"
   ]
  },
  {
   "cell_type": "code",
   "execution_count": 17,
   "metadata": {},
   "outputs": [
    {
     "data": {
      "image/png": "[encoded data removed]",
      "text/plain": [
       "<Figure size 432x288 with 1 Axes>"
      ]
     },
     "metadata": {},
     "output_type": "display_data"
    }
   ],
   "source": [
    "# MgLearn으로 사용 될 Ridge 셈플 데이터 그래프\n",
    "mglearn.plots.plot_ridge_n_samples()"
   ]
  },
  {
   "cell_type": "code",
   "execution_count": 18,
   "metadata": {},
   "outputs": [
    {
     "name": "stdout",
     "output_type": "stream",
     "text": [
      "훈련 세트 점수 : 0.29\n",
      "테스트 세트 점수 : 0.21\n",
      "사용한 특성의 개수 : 4\n"
     ]
    }
   ],
   "source": [
    "# Lasso모델을 사용하기 위한 모델 선언\n",
    "# 가중치를 0으로 만들어서 예측하는 기법\n",
    "from sklearn.linear_model import Lasso\n",
    "# 모델의 값을 행과 열로 된 데이터로 만들기 위한 NumPy 라이브러리 선언\n",
    "import numpy as np\n",
    "\n",
    "# Lasso모델을 이용해 트레이닝 데이터를 피팅\n",
    "lasso = Lasso().fit(x_train, y_train)\n",
    "# Normal 상태의 Lasso모델로 피팅시킨 상태의 예측값\n",
    "# Normal 상태의 alpha값은 1.0\n",
    "print(\"훈련 세트 점수 : {:.2f}\".format(lasso.score(x_train,y_train)))\n",
    "print(\"테스트 세트 점수 : {:.2f}\".format(lasso.score(x_test,y_test)))\n",
    "print(\"사용한 특성의 개수 : {}\".format(np.sum(lasso.coef_ != 0)))\n",
    "# 출력 결과는 과소적합\n",
    "# 테스트에 사용된 특성의 개수가 너무 적음"
   ]
  },
  {
   "cell_type": "code",
   "execution_count": 19,
   "metadata": {},
   "outputs": [
    {
     "name": "stdout",
     "output_type": "stream",
     "text": [
      "훈련 세트 점수 : 0.90\n",
      "테스트 세트 점수 : 0.77\n",
      "사용한 특성의 개수 : 33\n"
     ]
    }
   ],
   "source": [
    "# alpha값을 0.01로 수정\n",
    "lasso001 = Lasso(alpha=0.01, max_iter=100000).fit(x_train, y_train)\n",
    "print(\"훈련 세트 점수 : {:.2f}\".format(lasso001.score(x_train,y_train)))\n",
    "print(\"테스트 세트 점수 : {:.2f}\".format(lasso001.score(x_test,y_test)))\n",
    "print(\"사용한 특성의 개수 : {}\".format(np.sum(lasso001.coef_ != 0)))"
   ]
  },
  {
   "cell_type": "code",
   "execution_count": 20,
   "metadata": {
    "scrolled": true
   },
   "outputs": [
    {
     "name": "stdout",
     "output_type": "stream",
     "text": [
      "훈련 세트 점수 : 0.95\n",
      "테스트 세트 점수 : 0.64\n",
      "사용한 특성의 개수 : 94\n"
     ]
    }
   ],
   "source": [
    "lasso00001 = Lasso(alpha=0.0001, max_iter=100000).fit(x_train, y_train)\n",
    "print(\"훈련 세트 점수 : {:.2f}\".format(lasso00001.score(x_train,y_train)))\n",
    "print(\"테스트 세트 점수 : {:.2f}\".format(lasso00001.score(x_test,y_test)))\n",
    "print(\"사용한 특성의 개수 : {}\".format(np.sum(lasso00001.coef_ != 0)))\n",
    "# 트레이닝 데이터의 점수가 95%인 반면 테스트 점수는 64%인 것으로 볼 때\n",
    "# 해당 모델은 오버피팅이 된 결과"
   ]
  },
  {
   "cell_type": "code",
   "execution_count": 21,
   "metadata": {},
   "outputs": [
    {
     "data": {
      "text/plain": [
       "Text(0,0.5,'Coefficient size')"
      ]
     },
     "execution_count": 21,
     "metadata": {},
     "output_type": "execute_result"
    },
    {
     "data": {
      "image/png": "[encoded data removed]",
      "text/plain": [
       "<Figure size 432x288 with 1 Axes>"
      ]
     },
     "metadata": {},
     "output_type": "display_data"
    }
   ],
   "source": [
    "plt.plot(lasso.coef_, 's', label=\"Lasso alpha = 1\")\n",
    "plt.plot(lasso001.coef_, '^', label=\"Lasso alpha = 0.01\")\n",
    "plt.plot(lasso00001.coef_, 'v', label=\"Lasso alpha = 0.0001\")\n",
    "\n",
    "plt.plot(ridge01.coef_, 'o', label=\"Reidge alpha = 0.1\")\n",
    "plt.legend(ncol=2, loc=(0,1.05))\n",
    "plt.ylim(-25,25)\n",
    "plt.xlabel(\"Coefficient List\")\n",
    "plt.ylabel(\"Coefficient size\")"
   ]
  }
 ],
 "metadata": {
  "kernelspec": {
   "display_name": "Python 3",
   "language": "python",
   "name": "python3"
  },
  "language_info": {
   "codemirror_mode": {
    "name": "ipython",
    "version": 3
   },
   "file_extension": ".py",
   "mimetype": "text/x-python",
   "name": "python",
   "nbconvert_exporter": "python",
   "pygments_lexer": "ipython3",
   "version": "3.6.3"
  }
 },
 "nbformat": 4,
 "nbformat_minor": 2
}
