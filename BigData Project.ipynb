{
 "cells": [
  {
   "cell_type": "code",
   "execution_count": 1,
   "metadata": {
    "scrolled": false
   },
   "outputs": [
    {
     "data": {
      "text/html": [
       "<div>\n",
       "<style>\n",
       "    .dataframe thead tr:only-child th {\n",
       "        text-align: right;\n",
       "    }\n",
       "\n",
       "    .dataframe thead th {\n",
       "        text-align: left;\n",
       "    }\n",
       "\n",
       "    .dataframe tbody tr th {\n",
       "        vertical-align: top;\n",
       "    }\n",
       "</style>\n",
       "<table border=\"1\" class=\"dataframe\">\n",
       "  <thead>\n",
       "    <tr style=\"text-align: right;\">\n",
       "      <th></th>\n",
       "      <th>gender</th>\n",
       "      <th>ages</th>\n",
       "      <th>height</th>\n",
       "      <th>weight</th>\n",
       "      <th>ap_hi</th>\n",
       "      <th>ap_lo</th>\n",
       "      <th>cholesterol</th>\n",
       "      <th>gluc</th>\n",
       "      <th>smoke</th>\n",
       "      <th>alco</th>\n",
       "      <th>active</th>\n",
       "      <th>cardio</th>\n",
       "    </tr>\n",
       "  </thead>\n",
       "  <tbody>\n",
       "    <tr>\n",
       "      <th></th>\n",
       "      <td>1</td>\n",
       "      <td>29</td>\n",
       "      <td>175</td>\n",
       "      <td>59.0</td>\n",
       "      <td>120</td>\n",
       "      <td>80</td>\n",
       "      <td>1</td>\n",
       "      <td>1</td>\n",
       "      <td>0</td>\n",
       "      <td>0</td>\n",
       "      <td>1</td>\n",
       "      <td>0</td>\n",
       "    </tr>\n",
       "    <tr>\n",
       "      <th></th>\n",
       "      <td>1</td>\n",
       "      <td>29</td>\n",
       "      <td>159</td>\n",
       "      <td>59.0</td>\n",
       "      <td>120</td>\n",
       "      <td>80</td>\n",
       "      <td>1</td>\n",
       "      <td>1</td>\n",
       "      <td>0</td>\n",
       "      <td>0</td>\n",
       "      <td>1</td>\n",
       "      <td>0</td>\n",
       "    </tr>\n",
       "    <tr>\n",
       "      <th></th>\n",
       "      <td>2</td>\n",
       "      <td>29</td>\n",
       "      <td>175</td>\n",
       "      <td>92.0</td>\n",
       "      <td>100</td>\n",
       "      <td>60</td>\n",
       "      <td>1</td>\n",
       "      <td>1</td>\n",
       "      <td>0</td>\n",
       "      <td>0</td>\n",
       "      <td>1</td>\n",
       "      <td>0</td>\n",
       "    </tr>\n",
       "    <tr>\n",
       "      <th></th>\n",
       "      <td>1</td>\n",
       "      <td>30</td>\n",
       "      <td>160</td>\n",
       "      <td>59.0</td>\n",
       "      <td>110</td>\n",
       "      <td>70</td>\n",
       "      <td>1</td>\n",
       "      <td>1</td>\n",
       "      <td>0</td>\n",
       "      <td>0</td>\n",
       "      <td>1</td>\n",
       "      <td>0</td>\n",
       "    </tr>\n",
       "    <tr>\n",
       "      <th></th>\n",
       "      <td>1</td>\n",
       "      <td>39</td>\n",
       "      <td>173</td>\n",
       "      <td>73.0</td>\n",
       "      <td>160</td>\n",
       "      <td>100</td>\n",
       "      <td>1</td>\n",
       "      <td>1</td>\n",
       "      <td>0</td>\n",
       "      <td>0</td>\n",
       "      <td>0</td>\n",
       "      <td>1</td>\n",
       "    </tr>\n",
       "  </tbody>\n",
       "</table>\n",
       "</div>"
      ],
      "text/plain": [
       "  gender  ages  height  weight  ap_hi  ap_lo  cholesterol  gluc  smoke  alco  \\\n",
       "       1    29     175    59.0    120     80            1     1      0     0   \n",
       "       1    29     159    59.0    120     80            1     1      0     0   \n",
       "       2    29     175    92.0    100     60            1     1      0     0   \n",
       "       1    30     160    59.0    110     70            1     1      0     0   \n",
       "       1    39     173    73.0    160    100            1     1      0     0   \n",
       "\n",
       "  active  cardio  \n",
       "       1       0  \n",
       "       1       0  \n",
       "       1       0  \n",
       "       1       0  \n",
       "       0       1  "
      ]
     },
     "metadata": {},
     "output_type": "display_data"
    },
    {
     "data": {
      "text/html": [
       "<div>\n",
       "<style>\n",
       "    .dataframe thead tr:only-child th {\n",
       "        text-align: right;\n",
       "    }\n",
       "\n",
       "    .dataframe thead th {\n",
       "        text-align: left;\n",
       "    }\n",
       "\n",
       "    .dataframe tbody tr th {\n",
       "        vertical-align: top;\n",
       "    }\n",
       "</style>\n",
       "<table border=\"1\" class=\"dataframe\">\n",
       "  <thead>\n",
       "    <tr style=\"text-align: right;\">\n",
       "      <th></th>\n",
       "      <th>gender</th>\n",
       "      <th>ages</th>\n",
       "      <th>height</th>\n",
       "      <th>weight</th>\n",
       "      <th>ap_hi</th>\n",
       "      <th>ap_lo</th>\n",
       "      <th>cholesterol</th>\n",
       "      <th>gluc</th>\n",
       "      <th>smoke</th>\n",
       "      <th>alco</th>\n",
       "      <th>active</th>\n",
       "      <th>cardio</th>\n",
       "    </tr>\n",
       "  </thead>\n",
       "  <tbody>\n",
       "    <tr>\n",
       "      <th>count</th>\n",
       "      <td>65861.000000</td>\n",
       "      <td>65861.000000</td>\n",
       "      <td>65861.000000</td>\n",
       "      <td>65861.000000</td>\n",
       "      <td>65861.000000</td>\n",
       "      <td>65861.000000</td>\n",
       "      <td>65861.000000</td>\n",
       "      <td>65861.000000</td>\n",
       "      <td>65861.000000</td>\n",
       "      <td>65861.000000</td>\n",
       "      <td>65861.000000</td>\n",
       "      <td>65861.000000</td>\n",
       "    </tr>\n",
       "    <tr>\n",
       "      <th>mean</th>\n",
       "      <td>1.350025</td>\n",
       "      <td>52.830370</td>\n",
       "      <td>164.433033</td>\n",
       "      <td>74.063580</td>\n",
       "      <td>125.963119</td>\n",
       "      <td>81.206541</td>\n",
       "      <td>1.359424</td>\n",
       "      <td>1.223714</td>\n",
       "      <td>0.087563</td>\n",
       "      <td>0.052808</td>\n",
       "      <td>0.803723</td>\n",
       "      <td>0.490806</td>\n",
       "    </tr>\n",
       "    <tr>\n",
       "      <th>std</th>\n",
       "      <td>0.476981</td>\n",
       "      <td>6.760877</td>\n",
       "      <td>8.155725</td>\n",
       "      <td>14.114574</td>\n",
       "      <td>13.998594</td>\n",
       "      <td>8.545844</td>\n",
       "      <td>0.676104</td>\n",
       "      <td>0.570637</td>\n",
       "      <td>0.282661</td>\n",
       "      <td>0.223652</td>\n",
       "      <td>0.397184</td>\n",
       "      <td>0.499919</td>\n",
       "    </tr>\n",
       "    <tr>\n",
       "      <th>min</th>\n",
       "      <td>1.000000</td>\n",
       "      <td>29.000000</td>\n",
       "      <td>55.000000</td>\n",
       "      <td>11.000000</td>\n",
       "      <td>100.000000</td>\n",
       "      <td>60.000000</td>\n",
       "      <td>1.000000</td>\n",
       "      <td>1.000000</td>\n",
       "      <td>0.000000</td>\n",
       "      <td>0.000000</td>\n",
       "      <td>0.000000</td>\n",
       "      <td>0.000000</td>\n",
       "    </tr>\n",
       "    <tr>\n",
       "      <th>25%</th>\n",
       "      <td>1.000000</td>\n",
       "      <td>48.000000</td>\n",
       "      <td>159.000000</td>\n",
       "      <td>65.000000</td>\n",
       "      <td>120.000000</td>\n",
       "      <td>80.000000</td>\n",
       "      <td>1.000000</td>\n",
       "      <td>1.000000</td>\n",
       "      <td>0.000000</td>\n",
       "      <td>0.000000</td>\n",
       "      <td>1.000000</td>\n",
       "      <td>0.000000</td>\n",
       "    </tr>\n",
       "    <tr>\n",
       "      <th>50%</th>\n",
       "      <td>1.000000</td>\n",
       "      <td>53.000000</td>\n",
       "      <td>165.000000</td>\n",
       "      <td>72.000000</td>\n",
       "      <td>120.000000</td>\n",
       "      <td>80.000000</td>\n",
       "      <td>1.000000</td>\n",
       "      <td>1.000000</td>\n",
       "      <td>0.000000</td>\n",
       "      <td>0.000000</td>\n",
       "      <td>1.000000</td>\n",
       "      <td>0.000000</td>\n",
       "    </tr>\n",
       "    <tr>\n",
       "      <th>75%</th>\n",
       "      <td>2.000000</td>\n",
       "      <td>58.000000</td>\n",
       "      <td>170.000000</td>\n",
       "      <td>82.000000</td>\n",
       "      <td>140.000000</td>\n",
       "      <td>90.000000</td>\n",
       "      <td>1.000000</td>\n",
       "      <td>1.000000</td>\n",
       "      <td>0.000000</td>\n",
       "      <td>0.000000</td>\n",
       "      <td>1.000000</td>\n",
       "      <td>1.000000</td>\n",
       "    </tr>\n",
       "    <tr>\n",
       "      <th>max</th>\n",
       "      <td>2.000000</td>\n",
       "      <td>64.000000</td>\n",
       "      <td>250.000000</td>\n",
       "      <td>200.000000</td>\n",
       "      <td>160.000000</td>\n",
       "      <td>120.000000</td>\n",
       "      <td>3.000000</td>\n",
       "      <td>3.000000</td>\n",
       "      <td>1.000000</td>\n",
       "      <td>1.000000</td>\n",
       "      <td>1.000000</td>\n",
       "      <td>1.000000</td>\n",
       "    </tr>\n",
       "  </tbody>\n",
       "</table>\n",
       "</div>"
      ],
      "text/plain": [
       "             gender          ages        height        weight         ap_hi  \\\n",
       "count  65861.000000  65861.000000  65861.000000  65861.000000  65861.000000   \n",
       "mean       1.350025     52.830370    164.433033     74.063580    125.963119   \n",
       "std        0.476981      6.760877      8.155725     14.114574     13.998594   \n",
       "min        1.000000     29.000000     55.000000     11.000000    100.000000   \n",
       "25%        1.000000     48.000000    159.000000     65.000000    120.000000   \n",
       "50%        1.000000     53.000000    165.000000     72.000000    120.000000   \n",
       "75%        2.000000     58.000000    170.000000     82.000000    140.000000   \n",
       "max        2.000000     64.000000    250.000000    200.000000    160.000000   \n",
       "\n",
       "              ap_lo   cholesterol          gluc         smoke          alco  \\\n",
       "count  65861.000000  65861.000000  65861.000000  65861.000000  65861.000000   \n",
       "mean      81.206541      1.359424      1.223714      0.087563      0.052808   \n",
       "std        8.545844      0.676104      0.570637      0.282661      0.223652   \n",
       "min       60.000000      1.000000      1.000000      0.000000      0.000000   \n",
       "25%       80.000000      1.000000      1.000000      0.000000      0.000000   \n",
       "50%       80.000000      1.000000      1.000000      0.000000      0.000000   \n",
       "75%       90.000000      1.000000      1.000000      0.000000      0.000000   \n",
       "max      120.000000      3.000000      3.000000      1.000000      1.000000   \n",
       "\n",
       "             active        cardio  \n",
       "count  65861.000000  65861.000000  \n",
       "mean       0.803723      0.490806  \n",
       "std        0.397184      0.499919  \n",
       "min        0.000000      0.000000  \n",
       "25%        1.000000      0.000000  \n",
       "50%        1.000000      0.000000  \n",
       "75%        1.000000      1.000000  \n",
       "max        1.000000      1.000000  "
      ]
     },
     "metadata": {},
     "output_type": "display_data"
    },
    {
     "name": "stdout",
     "output_type": "stream",
     "text": [
      "<class 'pandas.core.frame.DataFrame'>\n",
      "Index: 65861 entries,  to \n",
      "Data columns (total 12 columns):\n",
      "gender         65861 non-null int64\n",
      "ages           65861 non-null int64\n",
      "height         65861 non-null int64\n",
      "weight         65861 non-null float64\n",
      "ap_hi          65861 non-null int64\n",
      "ap_lo          65861 non-null int64\n",
      "cholesterol    65861 non-null int64\n",
      "gluc           65861 non-null int64\n",
      "smoke          65861 non-null int64\n",
      "alco           65861 non-null int64\n",
      "active         65861 non-null int64\n",
      "cardio         65861 non-null int64\n",
      "dtypes: float64(1), int64(11)\n",
      "memory usage: 6.5+ MB\n"
     ]
    }
   ],
   "source": [
    "#-*- coding:utf-8 -*-\n",
    "import csv\n",
    "import pandas as pd\n",
    "import numpy as np\n",
    "import seaborn as sns\n",
    "from sklearn.model_selection import train_test_split\n",
    "import matplotlib.pylab as plt\n",
    "%matplotlib inline\n",
    "# 심혈관 질환 데이터셋 불러오기\n",
    "\"\"\"\n",
    "    데이터셋 출처\n",
    "    https://www.kaggle.com/sulianova/cardiovascular-disease-dataset\n",
    "\"\"\"\n",
    "df = pd.read_csv('cardio_train2.csv')\n",
    "\n",
    "# index를 제거하기 위한 작업\n",
    "# 기존 DataFrame에는 인덱싱이 되어있기 때문에 그 부분을 제거하기 위한 작업\n",
    "blankIndex=[''] * len(df)\n",
    "# index값에 대입하여 인덱싱된 값을 제거\n",
    "df.index=blankIndex\n",
    "\n",
    "# 첫 5행을 출력\n",
    "display(df.head())\n",
    "\n",
    "# DataFrame의 형태 출력\n",
    "display(df.describe())\n",
    "df.info()"
   ]
  },
  {
   "cell_type": "code",
   "execution_count": 2,
   "metadata": {},
   "outputs": [
    {
     "name": "stdout",
     "output_type": "stream",
     "text": [
      "\n",
      "* Data Shape :  (65861, 12)\n",
      "\n",
      "* Class :  {0, 1}\n"
     ]
    },
    {
     "data": {
      "text/plain": [
       "'\\n    target이 되는 클래스 : 0, 1\\n    전처리 후 : normal, abnormal\\n'"
      ]
     },
     "execution_count": 2,
     "metadata": {},
     "output_type": "execute_result"
    }
   ],
   "source": [
    "# 데이터 확인\n",
    "print(\"\\n* Data Shape : \", df.shape)\n",
    "print(\"\\n* Class : \", set(df['cardio'].values))\n",
    "Y_NAME = \"class\"\n",
    "\n",
    "\"\"\"\n",
    "    target이 되는 클래스 : 0, 1\n",
    "    전처리 후 : normal, abnormal\n",
    "\"\"\""
   ]
  },
  {
   "cell_type": "code",
   "execution_count": 3,
   "metadata": {},
   "outputs": [
    {
     "name": "stdout",
     "output_type": "stream",
     "text": [
      "\n",
      "* Class :  {'normal', 'abnormal'}\n",
      "\n",
      "NULL값 확인\n",
      "Empty DataFrame\n",
      "Columns: [gender, ages, height, weight, ap_hi, ap_lo, cholesterol, gluc, smoke, alco, active, class]\n",
      "Index: []\n",
      "\n",
      " 데이터 5줄 출력\n"
     ]
    },
    {
     "data": {
      "text/html": [
       "<div>\n",
       "<style>\n",
       "    .dataframe thead tr:only-child th {\n",
       "        text-align: right;\n",
       "    }\n",
       "\n",
       "    .dataframe thead th {\n",
       "        text-align: left;\n",
       "    }\n",
       "\n",
       "    .dataframe tbody tr th {\n",
       "        vertical-align: top;\n",
       "    }\n",
       "</style>\n",
       "<table border=\"1\" class=\"dataframe\">\n",
       "  <thead>\n",
       "    <tr style=\"text-align: right;\">\n",
       "      <th></th>\n",
       "      <th>gender</th>\n",
       "      <th>ages</th>\n",
       "      <th>height</th>\n",
       "      <th>weight</th>\n",
       "      <th>ap_hi</th>\n",
       "      <th>ap_lo</th>\n",
       "      <th>cholesterol</th>\n",
       "      <th>gluc</th>\n",
       "      <th>smoke</th>\n",
       "      <th>alco</th>\n",
       "      <th>active</th>\n",
       "      <th>class</th>\n",
       "    </tr>\n",
       "  </thead>\n",
       "  <tbody>\n",
       "    <tr>\n",
       "      <th></th>\n",
       "      <td>1</td>\n",
       "      <td>29</td>\n",
       "      <td>175</td>\n",
       "      <td>59.0</td>\n",
       "      <td>120</td>\n",
       "      <td>80</td>\n",
       "      <td>1</td>\n",
       "      <td>1</td>\n",
       "      <td>0</td>\n",
       "      <td>0</td>\n",
       "      <td>1</td>\n",
       "      <td>normal</td>\n",
       "    </tr>\n",
       "    <tr>\n",
       "      <th></th>\n",
       "      <td>1</td>\n",
       "      <td>29</td>\n",
       "      <td>159</td>\n",
       "      <td>59.0</td>\n",
       "      <td>120</td>\n",
       "      <td>80</td>\n",
       "      <td>1</td>\n",
       "      <td>1</td>\n",
       "      <td>0</td>\n",
       "      <td>0</td>\n",
       "      <td>1</td>\n",
       "      <td>normal</td>\n",
       "    </tr>\n",
       "    <tr>\n",
       "      <th></th>\n",
       "      <td>2</td>\n",
       "      <td>29</td>\n",
       "      <td>175</td>\n",
       "      <td>92.0</td>\n",
       "      <td>100</td>\n",
       "      <td>60</td>\n",
       "      <td>1</td>\n",
       "      <td>1</td>\n",
       "      <td>0</td>\n",
       "      <td>0</td>\n",
       "      <td>1</td>\n",
       "      <td>normal</td>\n",
       "    </tr>\n",
       "    <tr>\n",
       "      <th></th>\n",
       "      <td>1</td>\n",
       "      <td>30</td>\n",
       "      <td>160</td>\n",
       "      <td>59.0</td>\n",
       "      <td>110</td>\n",
       "      <td>70</td>\n",
       "      <td>1</td>\n",
       "      <td>1</td>\n",
       "      <td>0</td>\n",
       "      <td>0</td>\n",
       "      <td>1</td>\n",
       "      <td>normal</td>\n",
       "    </tr>\n",
       "    <tr>\n",
       "      <th></th>\n",
       "      <td>1</td>\n",
       "      <td>39</td>\n",
       "      <td>173</td>\n",
       "      <td>73.0</td>\n",
       "      <td>160</td>\n",
       "      <td>100</td>\n",
       "      <td>1</td>\n",
       "      <td>1</td>\n",
       "      <td>0</td>\n",
       "      <td>0</td>\n",
       "      <td>0</td>\n",
       "      <td>abnormal</td>\n",
       "    </tr>\n",
       "  </tbody>\n",
       "</table>\n",
       "</div>"
      ],
      "text/plain": [
       "  gender  ages  height  weight  ap_hi  ap_lo  cholesterol  gluc  smoke  alco  \\\n",
       "       1    29     175    59.0    120     80            1     1      0     0   \n",
       "       1    29     159    59.0    120     80            1     1      0     0   \n",
       "       2    29     175    92.0    100     60            1     1      0     0   \n",
       "       1    30     160    59.0    110     70            1     1      0     0   \n",
       "       1    39     173    73.0    160    100            1     1      0     0   \n",
       "\n",
       "  active     class  \n",
       "       1    normal  \n",
       "       1    normal  \n",
       "       1    normal  \n",
       "       1    normal  \n",
       "       0  abnormal  "
      ]
     },
     "execution_count": 3,
     "metadata": {},
     "output_type": "execute_result"
    }
   ],
   "source": [
    "df.rename(index=str, columns={\"cardio\": Y_NAME}, inplace=True)\n",
    "df[Y_NAME].replace(0, \"normal\", inplace=True)\n",
    "df[Y_NAME].replace(1, \"abnormal\", inplace=True)\n",
    "\n",
    "labels = set(df[Y_NAME].values)\n",
    "print(\"\\n* Class : \",labels)\n",
    "# 각 컬럼별 NULL값 찾기\n",
    "print(\"\\nNULL값 확인\")\n",
    "print(df[df.isnull().any(1)])\n",
    "print(\"\\n 데이터 5줄 출력\")\n",
    "df.head()"
   ]
  },
  {
   "cell_type": "code",
   "execution_count": 4,
   "metadata": {},
   "outputs": [
    {
     "data": {
      "text/plain": [
       "<matplotlib.axes._subplots.AxesSubplot at 0x190dda397b8>"
      ]
     },
     "execution_count": 4,
     "metadata": {},
     "output_type": "execute_result"
    },
    {
     "data": {
      "image/png": "[encoded data removed]",
      "text/plain": [
       "<Figure size 432x288 with 1 Axes>"
      ]
     },
     "metadata": {},
     "output_type": "display_data"
    }
   ],
   "source": [
    "# Data balance확인\n",
    "sns.countplot(x=df[Y_NAME], data=df)\n",
    "\n",
    "# 벨런스 편---안"
   ]
  },
  {
   "cell_type": "code",
   "execution_count": 5,
   "metadata": {},
   "outputs": [
    {
     "name": "stdout",
     "output_type": "stream",
     "text": [
      "['abnormal' 'normal'] [32325 33536]\n",
      "normal          개수:33536개\t데이터비중:0.509\n",
      "abnormal        개수:32325개\t데이터비중:0.491\n"
     ]
    }
   ],
   "source": [
    "# 데이터 전처리 및 비율 확인\n",
    "labels_count = dict(normal=0, abnormal=0)\n",
    "total = 0\n",
    "\n",
    "print(*np.unique(df[Y_NAME],return_counts=True))\n",
    "for label in df[Y_NAME].values:\n",
    "    labels_count[label] += 1\n",
    "for count in labels_count.values():\n",
    "    total += count\n",
    "for label in labels_count.items():\n",
    "    print(\"{0: <15} 개수:{1}개\\t데이터비중:{2:.3f}\".format(*label, label[1]/total))\n",
    "del labels_count"
   ]
  },
  {
   "cell_type": "code",
   "execution_count": 6,
   "metadata": {},
   "outputs": [
    {
     "data": {
      "text/plain": [
       "<matplotlib.axes._subplots.AxesSubplot at 0x190e7a37a20>"
      ]
     },
     "execution_count": 6,
     "metadata": {},
     "output_type": "execute_result"
    },
    {
     "data": {
      "image/png": "[encoded data removed]",
      "text/plain": [
       "<Figure size 1296x720 with 2 Axes>"
      ]
     },
     "metadata": {},
     "output_type": "display_data"
    }
   ],
   "source": [
    "# Feature Correlation 확인\n",
    "plt.figure(figsize=(18, 10))\n",
    "sns.heatmap(df.corr(),annot=True,linewidth = 0.5, cmap='coolwarm')"
   ]
  },
  {
   "cell_type": "markdown",
   "metadata": {},
   "source": [
    "Feature Selection\n",
    "-------------\n",
    "\n",
    "1. Univariate Selection\n",
    "2. Recursive Feature Elimination\n",
    "3. Principal Component Analysis\n",
    "4. Feature Importance"
   ]
  },
  {
   "cell_type": "code",
   "execution_count": 19,
   "metadata": {
    "collapsed": true
   },
   "outputs": [],
   "source": [
    "x = df[['ages','gender','height','weight','ap_hi','ap_lo','cholesterol','gluc','smoke','alco','active']].values\n",
    "y = df['class'].values\n",
    "\n",
    "x_train, x_test, y_train, y_test = train_test_split(x, y)"
   ]
  },
  {
   "cell_type": "code",
   "execution_count": 21,
   "metadata": {},
   "outputs": [
    {
     "name": "stdout",
     "output_type": "stream",
     "text": [
      "[3.124e+03 1.332e-03 7.978e+00 4.986e+03 1.912e+04 6.353e+03 1.066e+03\n",
      " 1.334e+02 2.260e+01 8.914e+00 1.862e+01]\n"
     ]
    }
   ],
   "source": [
    "# Univariate Selection\n",
    "from sklearn.feature_selection import SelectKBest\n",
    "from sklearn.feature_selection import chi2\n",
    "\n",
    "# feature extraction\n",
    "test = SelectKBest(score_func=chi2, k=4)\n",
    "fit = test.fit(x, y)\n",
    "# summarize scores\n",
    "np.set_printoptions(precision=3)\n",
    "print(\"{}\".format(fit.scores_))\n",
    "features = fit.transform(x)"
   ]
  },
  {
   "cell_type": "code",
   "execution_count": 27,
   "metadata": {},
   "outputs": [
    {
     "name": "stdout",
     "output_type": "stream",
     "text": [
      "Num Features: 5\n",
      "Selected Features: [False False False False False False  True  True  True  True  True]\n",
      "Feature Ranking: [3 7 6 5 2 4 1 1 1 1 1]\n"
     ]
    }
   ],
   "source": [
    "# Recursive Feature Elimination\n",
    "from sklearn.feature_selection import RFE\n",
    "from sklearn.linear_model import LogisticRegression\n",
    "\n",
    "# 'ages','gender','height','weight','ap_hi','ap_lo','cholesterol','gluc','smoke','alco','active'\n",
    "\n",
    "# feature extraction\n",
    "model = LogisticRegression()\n",
    "rfe = RFE(model, 5)\n",
    "fit = rfe.fit(x, y)\n",
    "print(\"Num Features: {}\".format(fit.n_features_))\n",
    "print(\"Selected Features: {}\".format(fit.support_))\n",
    "print(\"Feature Ranking: {}\".format(fit.ranking_))"
   ]
  },
  {
   "cell_type": "code",
   "execution_count": 29,
   "metadata": {},
   "outputs": [
    {
     "name": "stdout",
     "output_type": "stream",
     "text": [
      "Explained Variance: [0.485 0.287 0.101]\n",
      "[[ 7.891e-02  3.897e-03  9.467e-02  5.861e-01  7.114e-01  3.676e-01\n",
      "   8.575e-03  4.052e-03  9.695e-04  7.740e-04 -2.013e-04]\n",
      " [-8.229e-02  6.375e-03  2.522e-01  7.673e-01 -5.278e-01 -2.494e-01\n",
      "  -1.951e-03  6.355e-04  1.546e-03  8.591e-04 -4.674e-04]\n",
      " [ 2.619e-01 -2.700e-02 -9.242e-01  2.547e-01 -7.727e-02 -7.473e-02\n",
      "   9.971e-03  5.432e-03 -6.226e-03 -2.201e-03 -1.262e-04]]\n"
     ]
    }
   ],
   "source": [
    "# Principal Component Analysis\n",
    "from sklearn.decomposition import PCA\n",
    "\n",
    "pca = PCA(n_components=3)\n",
    "fit = pca.fit(x)\n",
    "# summarize components\n",
    "print(\"Explained Variance: {}\".format(fit.explained_variance_ratio_))\n",
    "print(fit.components_)"
   ]
  },
  {
   "cell_type": "code",
   "execution_count": 30,
   "metadata": {},
   "outputs": [
    {
     "name": "stdout",
     "output_type": "stream",
     "text": [
      "[0.156 0.011 0.236 0.261 0.184 0.075 0.045 0.014 0.006 0.006 0.007]\n"
     ]
    }
   ],
   "source": [
    "# Feature Importance\n",
    "\n",
    "from sklearn.ensemble import ExtraTreesClassifier\n",
    "# feature extraction\n",
    "model = ExtraTreesClassifier()\n",
    "model.fit(x, y)\n",
    "print(model.feature_importances_)"
   ]
  },
  {
   "cell_type": "code",
   "execution_count": null,
   "metadata": {
    "collapsed": true
   },
   "outputs": [],
   "source": []
  }
 ],
 "metadata": {
  "kernelspec": {
   "display_name": "Python 3",
   "language": "python",
   "name": "python3"
  },
  "language_info": {
   "codemirror_mode": {
    "name": "ipython",
    "version": 3
   },
   "file_extension": ".py",
   "mimetype": "text/x-python",
   "name": "python",
   "nbconvert_exporter": "python",
   "pygments_lexer": "ipython3",
   "version": "3.6.3"
  }
 },
 "nbformat": 4,
 "nbformat_minor": 2
}
