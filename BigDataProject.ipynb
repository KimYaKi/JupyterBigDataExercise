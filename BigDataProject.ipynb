{
 "cells": [
  {
   "cell_type": "code",
   "execution_count": 1,
   "metadata": {
    "scrolled": false
   },
   "outputs": [
    {
     "data": {
      "text/html": [
       "<div>\n",
       "<style>\n",
       "    .dataframe thead tr:only-child th {\n",
       "        text-align: right;\n",
       "    }\n",
       "\n",
       "    .dataframe thead th {\n",
       "        text-align: left;\n",
       "    }\n",
       "\n",
       "    .dataframe tbody tr th {\n",
       "        vertical-align: top;\n",
       "    }\n",
       "</style>\n",
       "<table border=\"1\" class=\"dataframe\">\n",
       "  <thead>\n",
       "    <tr style=\"text-align: right;\">\n",
       "      <th></th>\n",
       "      <th>gender</th>\n",
       "      <th>ages</th>\n",
       "      <th>height</th>\n",
       "      <th>weight</th>\n",
       "      <th>ap_hi</th>\n",
       "      <th>ap_lo</th>\n",
       "      <th>cholesterol</th>\n",
       "      <th>gluc</th>\n",
       "      <th>smoke</th>\n",
       "      <th>alco</th>\n",
       "      <th>active</th>\n",
       "      <th>cardio</th>\n",
       "    </tr>\n",
       "  </thead>\n",
       "  <tbody>\n",
       "    <tr>\n",
       "      <th></th>\n",
       "      <td>1</td>\n",
       "      <td>29</td>\n",
       "      <td>175</td>\n",
       "      <td>59.0</td>\n",
       "      <td>120</td>\n",
       "      <td>80</td>\n",
       "      <td>1</td>\n",
       "      <td>1</td>\n",
       "      <td>0</td>\n",
       "      <td>0</td>\n",
       "      <td>1</td>\n",
       "      <td>0</td>\n",
       "    </tr>\n",
       "    <tr>\n",
       "      <th></th>\n",
       "      <td>1</td>\n",
       "      <td>29</td>\n",
       "      <td>159</td>\n",
       "      <td>59.0</td>\n",
       "      <td>120</td>\n",
       "      <td>80</td>\n",
       "      <td>1</td>\n",
       "      <td>1</td>\n",
       "      <td>0</td>\n",
       "      <td>0</td>\n",
       "      <td>1</td>\n",
       "      <td>0</td>\n",
       "    </tr>\n",
       "    <tr>\n",
       "      <th></th>\n",
       "      <td>2</td>\n",
       "      <td>29</td>\n",
       "      <td>175</td>\n",
       "      <td>92.0</td>\n",
       "      <td>100</td>\n",
       "      <td>60</td>\n",
       "      <td>1</td>\n",
       "      <td>1</td>\n",
       "      <td>0</td>\n",
       "      <td>0</td>\n",
       "      <td>1</td>\n",
       "      <td>0</td>\n",
       "    </tr>\n",
       "    <tr>\n",
       "      <th></th>\n",
       "      <td>1</td>\n",
       "      <td>30</td>\n",
       "      <td>160</td>\n",
       "      <td>59.0</td>\n",
       "      <td>110</td>\n",
       "      <td>70</td>\n",
       "      <td>1</td>\n",
       "      <td>1</td>\n",
       "      <td>0</td>\n",
       "      <td>0</td>\n",
       "      <td>1</td>\n",
       "      <td>0</td>\n",
       "    </tr>\n",
       "    <tr>\n",
       "      <th></th>\n",
       "      <td>1</td>\n",
       "      <td>39</td>\n",
       "      <td>173</td>\n",
       "      <td>73.0</td>\n",
       "      <td>160</td>\n",
       "      <td>100</td>\n",
       "      <td>1</td>\n",
       "      <td>1</td>\n",
       "      <td>0</td>\n",
       "      <td>0</td>\n",
       "      <td>0</td>\n",
       "      <td>1</td>\n",
       "    </tr>\n",
       "  </tbody>\n",
       "</table>\n",
       "</div>"
      ],
      "text/plain": [
       "  gender  ages  height  weight  ap_hi  ap_lo  cholesterol  gluc  smoke  alco  \\\n",
       "       1    29     175    59.0    120     80            1     1      0     0   \n",
       "       1    29     159    59.0    120     80            1     1      0     0   \n",
       "       2    29     175    92.0    100     60            1     1      0     0   \n",
       "       1    30     160    59.0    110     70            1     1      0     0   \n",
       "       1    39     173    73.0    160    100            1     1      0     0   \n",
       "\n",
       "  active  cardio  \n",
       "       1       0  \n",
       "       1       0  \n",
       "       1       0  \n",
       "       1       0  \n",
       "       0       1  "
      ]
     },
     "metadata": {},
     "output_type": "display_data"
    },
    {
     "data": {
      "text/html": [
       "<div>\n",
       "<style>\n",
       "    .dataframe thead tr:only-child th {\n",
       "        text-align: right;\n",
       "    }\n",
       "\n",
       "    .dataframe thead th {\n",
       "        text-align: left;\n",
       "    }\n",
       "\n",
       "    .dataframe tbody tr th {\n",
       "        vertical-align: top;\n",
       "    }\n",
       "</style>\n",
       "<table border=\"1\" class=\"dataframe\">\n",
       "  <thead>\n",
       "    <tr style=\"text-align: right;\">\n",
       "      <th></th>\n",
       "      <th>gender</th>\n",
       "      <th>ages</th>\n",
       "      <th>height</th>\n",
       "      <th>weight</th>\n",
       "      <th>ap_hi</th>\n",
       "      <th>ap_lo</th>\n",
       "      <th>cholesterol</th>\n",
       "      <th>gluc</th>\n",
       "      <th>smoke</th>\n",
       "      <th>alco</th>\n",
       "      <th>active</th>\n",
       "      <th>cardio</th>\n",
       "    </tr>\n",
       "  </thead>\n",
       "  <tbody>\n",
       "    <tr>\n",
       "      <th>count</th>\n",
       "      <td>65851.000000</td>\n",
       "      <td>65851.000000</td>\n",
       "      <td>65851.000000</td>\n",
       "      <td>65851.000000</td>\n",
       "      <td>65851.000000</td>\n",
       "      <td>65851.000000</td>\n",
       "      <td>65851.000000</td>\n",
       "      <td>65851.000000</td>\n",
       "      <td>65851.000000</td>\n",
       "      <td>65851.000000</td>\n",
       "      <td>65851.000000</td>\n",
       "      <td>65851.000000</td>\n",
       "    </tr>\n",
       "    <tr>\n",
       "      <th>mean</th>\n",
       "      <td>1.350033</td>\n",
       "      <td>52.830284</td>\n",
       "      <td>164.433008</td>\n",
       "      <td>74.070119</td>\n",
       "      <td>125.964283</td>\n",
       "      <td>81.206861</td>\n",
       "      <td>1.359402</td>\n",
       "      <td>1.223748</td>\n",
       "      <td>0.087561</td>\n",
       "      <td>0.052801</td>\n",
       "      <td>0.803693</td>\n",
       "      <td>0.490805</td>\n",
       "    </tr>\n",
       "    <tr>\n",
       "      <th>std</th>\n",
       "      <td>0.476983</td>\n",
       "      <td>6.760787</td>\n",
       "      <td>8.145586</td>\n",
       "      <td>14.103680</td>\n",
       "      <td>13.998763</td>\n",
       "      <td>8.545518</td>\n",
       "      <td>0.676103</td>\n",
       "      <td>0.570674</td>\n",
       "      <td>0.282658</td>\n",
       "      <td>0.223638</td>\n",
       "      <td>0.397206</td>\n",
       "      <td>0.499919</td>\n",
       "    </tr>\n",
       "    <tr>\n",
       "      <th>min</th>\n",
       "      <td>1.000000</td>\n",
       "      <td>29.000000</td>\n",
       "      <td>55.000000</td>\n",
       "      <td>31.000000</td>\n",
       "      <td>100.000000</td>\n",
       "      <td>60.000000</td>\n",
       "      <td>1.000000</td>\n",
       "      <td>1.000000</td>\n",
       "      <td>0.000000</td>\n",
       "      <td>0.000000</td>\n",
       "      <td>0.000000</td>\n",
       "      <td>0.000000</td>\n",
       "    </tr>\n",
       "    <tr>\n",
       "      <th>25%</th>\n",
       "      <td>1.000000</td>\n",
       "      <td>48.000000</td>\n",
       "      <td>159.000000</td>\n",
       "      <td>65.000000</td>\n",
       "      <td>120.000000</td>\n",
       "      <td>80.000000</td>\n",
       "      <td>1.000000</td>\n",
       "      <td>1.000000</td>\n",
       "      <td>0.000000</td>\n",
       "      <td>0.000000</td>\n",
       "      <td>1.000000</td>\n",
       "      <td>0.000000</td>\n",
       "    </tr>\n",
       "    <tr>\n",
       "      <th>50%</th>\n",
       "      <td>1.000000</td>\n",
       "      <td>53.000000</td>\n",
       "      <td>165.000000</td>\n",
       "      <td>72.000000</td>\n",
       "      <td>120.000000</td>\n",
       "      <td>80.000000</td>\n",
       "      <td>1.000000</td>\n",
       "      <td>1.000000</td>\n",
       "      <td>0.000000</td>\n",
       "      <td>0.000000</td>\n",
       "      <td>1.000000</td>\n",
       "      <td>0.000000</td>\n",
       "    </tr>\n",
       "    <tr>\n",
       "      <th>75%</th>\n",
       "      <td>2.000000</td>\n",
       "      <td>58.000000</td>\n",
       "      <td>170.000000</td>\n",
       "      <td>82.000000</td>\n",
       "      <td>140.000000</td>\n",
       "      <td>90.000000</td>\n",
       "      <td>1.000000</td>\n",
       "      <td>1.000000</td>\n",
       "      <td>0.000000</td>\n",
       "      <td>0.000000</td>\n",
       "      <td>1.000000</td>\n",
       "      <td>1.000000</td>\n",
       "    </tr>\n",
       "    <tr>\n",
       "      <th>max</th>\n",
       "      <td>2.000000</td>\n",
       "      <td>64.000000</td>\n",
       "      <td>207.000000</td>\n",
       "      <td>200.000000</td>\n",
       "      <td>160.000000</td>\n",
       "      <td>120.000000</td>\n",
       "      <td>3.000000</td>\n",
       "      <td>3.000000</td>\n",
       "      <td>1.000000</td>\n",
       "      <td>1.000000</td>\n",
       "      <td>1.000000</td>\n",
       "      <td>1.000000</td>\n",
       "    </tr>\n",
       "  </tbody>\n",
       "</table>\n",
       "</div>"
      ],
      "text/plain": [
       "             gender          ages        height        weight         ap_hi  \\\n",
       "count  65851.000000  65851.000000  65851.000000  65851.000000  65851.000000   \n",
       "mean       1.350033     52.830284    164.433008     74.070119    125.964283   \n",
       "std        0.476983      6.760787      8.145586     14.103680     13.998763   \n",
       "min        1.000000     29.000000     55.000000     31.000000    100.000000   \n",
       "25%        1.000000     48.000000    159.000000     65.000000    120.000000   \n",
       "50%        1.000000     53.000000    165.000000     72.000000    120.000000   \n",
       "75%        2.000000     58.000000    170.000000     82.000000    140.000000   \n",
       "max        2.000000     64.000000    207.000000    200.000000    160.000000   \n",
       "\n",
       "              ap_lo   cholesterol          gluc         smoke          alco  \\\n",
       "count  65851.000000  65851.000000  65851.000000  65851.000000  65851.000000   \n",
       "mean      81.206861      1.359402      1.223748      0.087561      0.052801   \n",
       "std        8.545518      0.676103      0.570674      0.282658      0.223638   \n",
       "min       60.000000      1.000000      1.000000      0.000000      0.000000   \n",
       "25%       80.000000      1.000000      1.000000      0.000000      0.000000   \n",
       "50%       80.000000      1.000000      1.000000      0.000000      0.000000   \n",
       "75%       90.000000      1.000000      1.000000      0.000000      0.000000   \n",
       "max      120.000000      3.000000      3.000000      1.000000      1.000000   \n",
       "\n",
       "             active        cardio  \n",
       "count  65851.000000  65851.000000  \n",
       "mean       0.803693      0.490805  \n",
       "std        0.397206      0.499919  \n",
       "min        0.000000      0.000000  \n",
       "25%        1.000000      0.000000  \n",
       "50%        1.000000      0.000000  \n",
       "75%        1.000000      1.000000  \n",
       "max        1.000000      1.000000  "
      ]
     },
     "metadata": {},
     "output_type": "display_data"
    },
    {
     "name": "stdout",
     "output_type": "stream",
     "text": [
      "<class 'pandas.core.frame.DataFrame'>\n",
      "Index: 65851 entries,  to \n",
      "Data columns (total 12 columns):\n",
      "gender         65851 non-null int64\n",
      "ages           65851 non-null int64\n",
      "height         65851 non-null int64\n",
      "weight         65851 non-null float64\n",
      "ap_hi          65851 non-null int64\n",
      "ap_lo          65851 non-null int64\n",
      "cholesterol    65851 non-null int64\n",
      "gluc           65851 non-null int64\n",
      "smoke          65851 non-null int64\n",
      "alco           65851 non-null int64\n",
      "active         65851 non-null int64\n",
      "cardio         65851 non-null int64\n",
      "dtypes: float64(1), int64(11)\n",
      "memory usage: 6.5+ MB\n"
     ]
    }
   ],
   "source": [
    "#-*- coding:utf-8 -*-\n",
    "import csv\n",
    "import pandas as pd\n",
    "import numpy as np\n",
    "import seaborn as sns\n",
    "from sklearn.model_selection import train_test_split\n",
    "import matplotlib.pylab as plt\n",
    "%matplotlib inline\n",
    "# 심혈관 질환 데이터셋 불러오기\n",
    "\"\"\"\n",
    "    데이터셋 출처\n",
    "    https://www.kaggle.com/sulianova/cardiovascular-disease-dataset\n",
    "\"\"\"\n",
    "df = pd.read_csv('cardio_train2.csv')\n",
    "\n",
    "# index를 제거하기 위한 작업\n",
    "# 기존 DataFrame에는 인덱싱이 되어있기 때문에 그 부분을 제거하기 위한 작업\n",
    "blankIndex=[''] * len(df)\n",
    "# index값에 대입하여 인덱싱된 값을 제거\n",
    "df.index=blankIndex\n",
    "\n",
    "# 첫 5행을 출력\n",
    "display(df.head())\n",
    "\n",
    "# DataFrame의 형태 출력\n",
    "display(df.describe())\n",
    "df.info()"
   ]
  },
  {
   "cell_type": "code",
   "execution_count": 2,
   "metadata": {},
   "outputs": [
    {
     "name": "stdout",
     "output_type": "stream",
     "text": [
      "\n",
      "* Data Shape :  (65851, 12)\n",
      "\n",
      "* Class :  {0, 1}\n"
     ]
    }
   ],
   "source": [
    "# 데이터 확인\n",
    "print(\"\\n* Data Shape : \", df.shape)\n",
    "print(\"\\n* Class : \", set(df['cardio'].values))\n",
    "Y_NAME = \"class\"\n",
    "\n",
    "#    target이 되는 클래스 : 0, 1\n",
    "#    전처리 후 : normal, abnormal"
   ]
  },
  {
   "cell_type": "code",
   "execution_count": 3,
   "metadata": {},
   "outputs": [
    {
     "name": "stdout",
     "output_type": "stream",
     "text": [
      "\n",
      "* Class :  {'abnormal', 'normal'}\n",
      "\n",
      "NULL값 확인\n",
      "Empty DataFrame\n",
      "Columns: [gender, ages, height, weight, ap_hi, ap_lo, cholesterol, gluc, smoke, alco, active, class]\n",
      "Index: []\n",
      "\n",
      " 데이터 5줄 출력\n"
     ]
    },
    {
     "data": {
      "text/html": [
       "<div>\n",
       "<style>\n",
       "    .dataframe thead tr:only-child th {\n",
       "        text-align: right;\n",
       "    }\n",
       "\n",
       "    .dataframe thead th {\n",
       "        text-align: left;\n",
       "    }\n",
       "\n",
       "    .dataframe tbody tr th {\n",
       "        vertical-align: top;\n",
       "    }\n",
       "</style>\n",
       "<table border=\"1\" class=\"dataframe\">\n",
       "  <thead>\n",
       "    <tr style=\"text-align: right;\">\n",
       "      <th></th>\n",
       "      <th>gender</th>\n",
       "      <th>ages</th>\n",
       "      <th>height</th>\n",
       "      <th>weight</th>\n",
       "      <th>ap_hi</th>\n",
       "      <th>ap_lo</th>\n",
       "      <th>cholesterol</th>\n",
       "      <th>gluc</th>\n",
       "      <th>smoke</th>\n",
       "      <th>alco</th>\n",
       "      <th>active</th>\n",
       "      <th>class</th>\n",
       "    </tr>\n",
       "  </thead>\n",
       "  <tbody>\n",
       "    <tr>\n",
       "      <th></th>\n",
       "      <td>1</td>\n",
       "      <td>29</td>\n",
       "      <td>175</td>\n",
       "      <td>59.0</td>\n",
       "      <td>120</td>\n",
       "      <td>80</td>\n",
       "      <td>1</td>\n",
       "      <td>1</td>\n",
       "      <td>0</td>\n",
       "      <td>0</td>\n",
       "      <td>1</td>\n",
       "      <td>normal</td>\n",
       "    </tr>\n",
       "    <tr>\n",
       "      <th></th>\n",
       "      <td>1</td>\n",
       "      <td>29</td>\n",
       "      <td>159</td>\n",
       "      <td>59.0</td>\n",
       "      <td>120</td>\n",
       "      <td>80</td>\n",
       "      <td>1</td>\n",
       "      <td>1</td>\n",
       "      <td>0</td>\n",
       "      <td>0</td>\n",
       "      <td>1</td>\n",
       "      <td>normal</td>\n",
       "    </tr>\n",
       "    <tr>\n",
       "      <th></th>\n",
       "      <td>2</td>\n",
       "      <td>29</td>\n",
       "      <td>175</td>\n",
       "      <td>92.0</td>\n",
       "      <td>100</td>\n",
       "      <td>60</td>\n",
       "      <td>1</td>\n",
       "      <td>1</td>\n",
       "      <td>0</td>\n",
       "      <td>0</td>\n",
       "      <td>1</td>\n",
       "      <td>normal</td>\n",
       "    </tr>\n",
       "    <tr>\n",
       "      <th></th>\n",
       "      <td>1</td>\n",
       "      <td>30</td>\n",
       "      <td>160</td>\n",
       "      <td>59.0</td>\n",
       "      <td>110</td>\n",
       "      <td>70</td>\n",
       "      <td>1</td>\n",
       "      <td>1</td>\n",
       "      <td>0</td>\n",
       "      <td>0</td>\n",
       "      <td>1</td>\n",
       "      <td>normal</td>\n",
       "    </tr>\n",
       "    <tr>\n",
       "      <th></th>\n",
       "      <td>1</td>\n",
       "      <td>39</td>\n",
       "      <td>173</td>\n",
       "      <td>73.0</td>\n",
       "      <td>160</td>\n",
       "      <td>100</td>\n",
       "      <td>1</td>\n",
       "      <td>1</td>\n",
       "      <td>0</td>\n",
       "      <td>0</td>\n",
       "      <td>0</td>\n",
       "      <td>abnormal</td>\n",
       "    </tr>\n",
       "  </tbody>\n",
       "</table>\n",
       "</div>"
      ],
      "text/plain": [
       "  gender  ages  height  weight  ap_hi  ap_lo  cholesterol  gluc  smoke  alco  \\\n",
       "       1    29     175    59.0    120     80            1     1      0     0   \n",
       "       1    29     159    59.0    120     80            1     1      0     0   \n",
       "       2    29     175    92.0    100     60            1     1      0     0   \n",
       "       1    30     160    59.0    110     70            1     1      0     0   \n",
       "       1    39     173    73.0    160    100            1     1      0     0   \n",
       "\n",
       "  active     class  \n",
       "       1    normal  \n",
       "       1    normal  \n",
       "       1    normal  \n",
       "       1    normal  \n",
       "       0  abnormal  "
      ]
     },
     "execution_count": 3,
     "metadata": {},
     "output_type": "execute_result"
    }
   ],
   "source": [
    "df.rename(index=str, columns={\"cardio\": Y_NAME}, inplace=True)\n",
    "df[Y_NAME].replace(0, \"normal\", inplace=True)\n",
    "df[Y_NAME].replace(1, \"abnormal\", inplace=True)\n",
    "\n",
    "labels = set(df[Y_NAME].values)\n",
    "print(\"\\n* Class : \",labels)\n",
    "# 각 컬럼별 NULL값 찾기\n",
    "print(\"\\nNULL값 확인\")\n",
    "print(df[df.isnull().any(1)])\n",
    "print(\"\\n 데이터 5줄 출력\")\n",
    "df.head()"
   ]
  },
  {
   "cell_type": "code",
   "execution_count": 4,
   "metadata": {},
   "outputs": [
    {
     "data": {
      "text/plain": [
       "<matplotlib.axes._subplots.AxesSubplot at 0x1ceaf7675c0>"
      ]
     },
     "execution_count": 4,
     "metadata": {},
     "output_type": "execute_result"
    },
    {
     "data": {
      "image/png": "[encoded data removed]",
      "text/plain": [
       "<Figure size 432x288 with 1 Axes>"
      ]
     },
     "metadata": {},
     "output_type": "display_data"
    }
   ],
   "source": [
    "# Data balance확인\n",
    "sns.countplot(x=df[Y_NAME], data=df)\n",
    "\n",
    "# 벨런스 편---안"
   ]
  },
  {
   "cell_type": "code",
   "execution_count": 5,
   "metadata": {},
   "outputs": [
    {
     "name": "stdout",
     "output_type": "stream",
     "text": [
      "['abnormal' 'normal'] [32320 33531]\n",
      "normal          개수:33531개\t데이터비중:0.509\n",
      "abnormal        개수:32320개\t데이터비중:0.491\n"
     ]
    }
   ],
   "source": [
    "# 데이터 전처리 및 비율 확인\n",
    "labels_count = dict(normal=0, abnormal=0)\n",
    "total = 0\n",
    "\n",
    "print(*np.unique(df[Y_NAME],return_counts=True))\n",
    "for label in df[Y_NAME].values:\n",
    "    labels_count[label] += 1\n",
    "for count in labels_count.values():\n",
    "    total += count\n",
    "for label in labels_count.items():\n",
    "    print(\"{0: <15} 개수:{1}개\\t데이터비중:{2:.3f}\".format(*label, label[1]/total))\n",
    "del labels_count"
   ]
  },
  {
   "cell_type": "code",
   "execution_count": 6,
   "metadata": {},
   "outputs": [
    {
     "data": {
      "text/plain": [
       "<matplotlib.axes._subplots.AxesSubplot at 0x1ceb9770c18>"
      ]
     },
     "execution_count": 6,
     "metadata": {},
     "output_type": "execute_result"
    },
    {
     "data": {
      "image/png": "[encoded data removed]",
      "text/plain": [
       "<Figure size 1296x720 with 2 Axes>"
      ]
     },
     "metadata": {},
     "output_type": "display_data"
    }
   ],
   "source": [
    "plt.figure(figsize=(18, 10))\n",
    "sns.heatmap(df.corr(),annot=True,linewidth = 0.5, cmap='coolwarm')"
   ]
  },
  {
   "cell_type": "markdown",
   "metadata": {},
   "source": [
    "Feature Selection\n",
    "-------------\n",
    "\n",
    "1. Univariate Selection\n",
    "2. Recursive Feature Elimination"
   ]
  },
  {
   "cell_type": "code",
   "execution_count": 7,
   "metadata": {
    "collapsed": true
   },
   "outputs": [],
   "source": [
    "x = df[['ages','gender','height','weight','ap_hi','ap_lo','cholesterol','gluc','smoke','alco','active']].values\n",
    "y = df['class'].values\n",
    "\n",
    "x_train, x_test, y_train, y_test = train_test_split(x, y)"
   ]
  },
  {
   "cell_type": "code",
   "execution_count": 8,
   "metadata": {},
   "outputs": [
    {
     "name": "stdout",
     "output_type": "stream",
     "text": [
      "[3.123e+03 1.591e-03 8.319e+00 4.984e+03 1.912e+04 6.351e+03 1.066e+03\n",
      " 1.335e+02 2.248e+01 8.817e+00 1.863e+01]\n"
     ]
    }
   ],
   "source": [
    "# Univariate Selection\n",
    "from sklearn.feature_selection import SelectKBest\n",
    "from sklearn.feature_selection import chi2\n",
    "\n",
    "# feature extraction\n",
    "test = SelectKBest(score_func=chi2, k=4)\n",
    "fit = test.fit(x, y)\n",
    "# summarize scores\n",
    "np.set_printoptions(precision=3)\n",
    "print(\"{}\".format(fit.scores_))\n",
    "features = fit.transform(x)"
   ]
  },
  {
   "cell_type": "code",
   "execution_count": 9,
   "metadata": {},
   "outputs": [
    {
     "name": "stdout",
     "output_type": "stream",
     "text": [
      "Num Features: 5\n",
      "Selected Features: [False False False False False False  True  True  True  True  True]\n",
      "Feature Ranking: [3 7 6 5 2 4 1 1 1 1 1]\n"
     ]
    }
   ],
   "source": [
    "# Recursive Feature Elimination\n",
    "from sklearn.feature_selection import RFE\n",
    "from sklearn.linear_model import LogisticRegression\n",
    "\n",
    "# 'ages','gender','height','weight','ap_hi','ap_lo','cholesterol','gluc','smoke','alco','active'\n",
    "\n",
    "# feature extraction\n",
    "model = LogisticRegression()\n",
    "rfe = RFE(model, 5)\n",
    "fit = rfe.fit(x, y)\n",
    "print(\"Num Features: {}\".format(fit.n_features_))\n",
    "print(\"Selected Features: {}\".format(fit.support_))\n",
    "print(\"Feature Ranking: {}\".format(fit.ranking_))\n",
    "\n",
    "# 최종 사용할 Features : cholesterol, gluc, smoke, alco, active"
   ]
  },
  {
   "cell_type": "markdown",
   "metadata": {},
   "source": [
    "***\n",
    "### ● Target Features : normal, abnormal\n",
    "### ● Feature : 11 -> 8\n",
    "> 본인의 주관적인 특성 제거 : smkoe, alco, active\n",
    "\n",
    "### ● training : test = 75% : 25%\n",
    "### ● 아래의 과정으로 최적화 알고리즘 찾기\n"
   ]
  },
  {
   "cell_type": "code",
   "execution_count": 31,
   "metadata": {},
   "outputs": [],
   "source": [
    "x = df[['ages','gender','height','weight','ap_hi','ap_lo','cholesterol','gluc']]\n",
    "y = df['class']\n",
    "\n",
    "x_train, x_test, y_train, y_test = train_test_split(x, y)\n",
    "\n",
    "# 각 알고리즘별 정확도를 담을 리스트\n",
    "Classifiers = list()"
   ]
  },
  {
   "cell_type": "code",
   "execution_count": 32,
   "metadata": {},
   "outputs": [
    {
     "name": "stdout",
     "output_type": "stream",
     "text": [
      "테스트 세트 예측 : ['abnormal' 'abnormal' 'normal' ... 'normal' 'normal' 'normal']\n",
      "테스트 세트 정확도 : 0.71615\n"
     ]
    }
   ],
   "source": [
    "from sklearn.neighbors import KNeighborsClassifier\n",
    "\n",
    "# KNN분류를 위한 분류모델 생성\n",
    "clf = KNeighborsClassifier(n_neighbors = 300)\n",
    "\n",
    "# KNN 분류 모델에 train데이터를 피팅\n",
    "clf.fit(x_train, y_train)\n",
    "\n",
    "# 결과 출력\n",
    "print(\"테스트 세트 예측 : {}\".format(clf.predict(x_test)))\n",
    "print(\"테스트 세트 정확도 : {:.5f}\".format(clf.score(x_test, y_test)))\n",
    "\n",
    "# 테스트 세트 예측 결과물\n",
    "y_pred_KN = clf.predict(x_test)\n",
    "Classifiers.append(y_pred_KN)"
   ]
  },
  {
   "cell_type": "code",
   "execution_count": 25,
   "metadata": {},
   "outputs": [
    {
     "name": "stdout",
     "output_type": "stream",
     "text": [
      "테스트 세트 예측 : ['normal' 'abnormal' 'normal' ... 'normal' 'abnormal' 'normal']\n",
      "테스트 세트 정확도 : 0.71050\n"
     ]
    }
   ],
   "source": [
    "# 가우시안 나이브 베이즈 알고리즘\n",
    "from sklearn.naive_bayes import GaussianNB\n",
    "GNB = GaussianNB()\n",
    "GNB.fit(x_train, y_train)\n",
    "\n",
    "# 결과 출력\n",
    "print(\"테스트 세트 예측 : {}\".format(GNB.predict(x_test)))\n",
    "print(\"테스트 세트 정확도 : {:.5f}\".format(GNB.score(x_test, y_test)))\n",
    "\n",
    "y_pred_NB = GNB.predict(x_test)\n",
    "Classifiers.append(y_pred_NB)"
   ]
  },
  {
   "cell_type": "code",
   "execution_count": 26,
   "metadata": {},
   "outputs": [
    {
     "name": "stdout",
     "output_type": "stream",
     "text": [
      "테스트 세트 예측 : ['normal' 'abnormal' 'normal' ... 'normal' 'normal' 'normal']\n",
      "테스트 세트 정확도 : 0.71967\n"
     ]
    }
   ],
   "source": [
    "from sklearn.tree import DecisionTreeClassifier\n",
    "DTR = DecisionTreeClassifier(max_depth=9)\n",
    "DTR.fit(x_train,y_train)\n",
    "\n",
    "# 결과 출력\n",
    "print(\"테스트 세트 예측 : {}\".format(DTR.predict(x_test)))\n",
    "print(\"테스트 세트 정확도 : {:.5f}\".format(DTR.score(x_test, y_test)))\n",
    "\n",
    "y_pred_Deci = DTR.predict(x_test)\n",
    "Classifiers.append(y_pred_Deci)"
   ]
  },
  {
   "cell_type": "code",
   "execution_count": 27,
   "metadata": {},
   "outputs": [
    {
     "name": "stdout",
     "output_type": "stream",
     "text": [
      "테스트 세트 예측 : ['normal' 'abnormal' 'normal' ... 'normal' 'abnormal' 'normal']\n",
      "테스트 세트 정확도 : 0.72423\n"
     ]
    }
   ],
   "source": [
    "# 랜덤 포레스트 분류 알고리즘\n",
    "from sklearn.ensemble import RandomForestClassifier\n",
    "RFC = RandomForestClassifier(n_estimators=500, random_state=0, max_depth=13)\n",
    "RFC.fit(x_train, y_train)\n",
    "\n",
    "# 결과 출력\n",
    "print(\"테스트 세트 예측 : {}\".format(RFC.predict(x_test)))\n",
    "print(\"테스트 세트 정확도 : {:.5f}\".format(RFC.score(x_test, y_test)))\n",
    "\n",
    "y_pred_RF = RFC.predict(x_test)\n",
    "Classifiers.append(y_pred_RF)"
   ]
  },
  {
   "cell_type": "code",
   "execution_count": 28,
   "metadata": {},
   "outputs": [
    {
     "name": "stdout",
     "output_type": "stream",
     "text": [
      "테스트 세트 예측 : ['normal' 'abnormal' 'normal' ... 'normal' 'normal' 'normal']\n",
      "테스트 세트 정확도 : 0.72380\n"
     ]
    }
   ],
   "source": [
    "# GradientBoostingClassifier 사용\n",
    "from sklearn.ensemble import GradientBoostingClassifier\n",
    "GBC = GradientBoostingClassifier(n_estimators = 100)\n",
    "GBC.fit(x_train, y_train)\n",
    "\n",
    "# 결과 출력\n",
    "print(\"테스트 세트 예측 : {}\".format(GBC.predict(x_test)))\n",
    "print(\"테스트 세트 정확도 : {:.5f}\".format(GBC.score(x_test, y_test)))\n",
    "\n",
    "y_pred_GBC = GBC.predict(x_test)\n",
    "Classifiers.append(y_pred_GBC)"
   ]
  },
  {
   "cell_type": "markdown",
   "metadata": {},
   "source": [
    "정확도 값\n",
    "-------------\n",
    "\n",
    "1. Accuracy_Score\n",
    "2. F1_Score"
   ]
  },
  {
   "cell_type": "code",
   "execution_count": 29,
   "metadata": {},
   "outputs": [
    {
     "name": "stdout",
     "output_type": "stream",
     "text": [
      "KNeighbors 분류기 정확도 : 71.40861325396344%\n",
      "Naive Bayes 분류기 정확도 : 71.0502338577416%\n",
      "DecisionTree 분류기 정확도 : 71.96744214298731%\n",
      "RandomForest 분류기 정확도 : 72.42300917208286%\n",
      "GradientBoosting 분류기 정확도 : 72.3804895827006%\n",
      "\n",
      "RandomForest 분류기가 가장정확함\n",
      "정확도 : 72.42300917208286%\n"
     ]
    }
   ],
   "source": [
    "Class = ['KNeighbors', 'Naive Bayes' ,'DecisionTree', 'RandomForest' , 'GradientBoosting']\n",
    "score=list()\n",
    "a=0\n",
    "index=0\n",
    "from sklearn.metrics import accuracy_score\n",
    "for pred in range(len(Classifiers)):\n",
    "    if a < accuracy_score(y_test,Classifiers[pred]):\n",
    "        a = accuracy_score(y_test,Classifiers[pred])\n",
    "        index=pred\n",
    "        \n",
    "    print(\"{} 분류기 정확도 : {:}%\".format(Class[pred],accuracy_score(y_test,Classifiers[pred])*100))\n",
    "    \n",
    "print(\"\\n{} 분류기가 가장정확함\\n정확도 : {:}%\".format(Class[index],a*100))"
   ]
  },
  {
   "cell_type": "code",
   "execution_count": 30,
   "metadata": {},
   "outputs": [
    {
     "name": "stdout",
     "output_type": "stream",
     "text": [
      "KNeighbors\n",
      "macro : 0.7122586552752921\n",
      "micro : 0.7140861325396344\n",
      "weighted : 0.7127002027545577\n",
      "None : [0.689 0.735]\n",
      "\n",
      "Naive Bayes\n",
      "macro : 0.706706036851366\n",
      "micro : 0.7105023385774162\n",
      "weighted : 0.7073485502775048\n",
      "None : [0.673 0.74 ]\n",
      "\n",
      "DecisionTree\n",
      "macro : 0.7190788898023468\n",
      "micro : 0.719674421429873\n",
      "weighted : 0.7193279445858901\n",
      "None : [0.706 0.732]\n",
      "\n",
      "RandomForest\n",
      "macro : 0.7230046780629014\n",
      "micro : 0.7242300917208286\n",
      "weighted : 0.7233594325191232\n",
      "None : [0.705 0.741]\n",
      "\n",
      "GradientBoosting\n",
      "macro : 0.7228227141389422\n",
      "micro : 0.7238048958270061\n",
      "weighted : 0.7231404198482443\n",
      "None : [0.706 0.739]\n",
      "\n"
     ]
    }
   ],
   "source": [
    "from sklearn.metrics import f1_score\n",
    "\n",
    "for i in range(len(Classifiers)):\n",
    "    print(Class[i])\n",
    "    print(\"macro : {}\".format(f1_score(y_test, Classifiers[i], average='macro')))\n",
    "    print(\"micro : {}\".format(f1_score(y_test, Classifiers[i], average='micro')))\n",
    "    print(\"weighted : {}\".format(f1_score(y_test, Classifiers[i], average='weighted')))\n",
    "    print(\"None : {}\\n\".format(f1_score(y_test, Classifiers[i], average=None)))"
   ]
  },
  {
   "cell_type": "code",
   "execution_count": null,
   "metadata": {
    "collapsed": true
   },
   "outputs": [],
   "source": []
  }
 ],
 "metadata": {
  "kernelspec": {
   "display_name": "Python 3",
   "language": "python",
   "name": "python3"
  },
  "language_info": {
   "codemirror_mode": {
    "name": "ipython",
    "version": 3
   },
   "file_extension": ".py",
   "mimetype": "text/x-python",
   "name": "python",
   "nbconvert_exporter": "python",
   "pygments_lexer": "ipython3",
   "version": "3.6.3"
  }
 },
 "nbformat": 4,
 "nbformat_minor": 2
}
